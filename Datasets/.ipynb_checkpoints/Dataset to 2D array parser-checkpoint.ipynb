{
 "cells": [
  {
   "cell_type": "code",
   "execution_count": null,
   "metadata": {},
   "outputs": [],
   "source": [
    "#Snippet to parse file and convert into Array\n",
    "import re\n",
    "\n",
    "f = open(\"fri26_d.txt\", \"r\")\n",
    "\n",
    "while True:\n",
    "    c = f.read(1)\n",
    "    if not c:\n",
    "      print(\"End of file\")\n",
    "      break\n",
    "    \n",
    "    if(re.findall(\"\\d\", c)):\n",
    "        while(c != \" \"):\n",
    "            print(c, end=\"\")\n",
    "            c = f.read(1)\n",
    "        \n",
    "        print(\",\", end =\"\")"
   ]
  }
 ],
 "metadata": {
  "kernelspec": {
   "display_name": "Python 3",
   "language": "python",
   "name": "python3"
  },
  "language_info": {
   "codemirror_mode": {
    "name": "ipython",
    "version": 3
   },
   "file_extension": ".py",
   "mimetype": "text/x-python",
   "name": "python",
   "nbconvert_exporter": "python",
   "pygments_lexer": "ipython3",
   "version": "3.7.4"
  }
 },
 "nbformat": 4,
 "nbformat_minor": 2
}
